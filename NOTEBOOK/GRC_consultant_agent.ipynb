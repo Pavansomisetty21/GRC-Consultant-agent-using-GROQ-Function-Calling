{
  "nbformat": 4,
  "nbformat_minor": 0,
  "metadata": {
    "colab": {
      "provenance": []
    },
    "kernelspec": {
      "name": "python3",
      "display_name": "Python 3"
    },
    "language_info": {
      "name": "python"
    }
  },
  "cells": [
    {
      "cell_type": "code",
      "source": [
        "api_key=\"api key\""
      ],
      "metadata": {
        "id": "PMReA09PKY9R"
      },
      "execution_count": 3,
      "outputs": []
    },
    {
      "cell_type": "code",
      "execution_count": 4,
      "metadata": {
        "colab": {
          "base_uri": "https://localhost:8080/"
        },
        "id": "NM21ItDdKVM9",
        "outputId": "7fe2cb21-af6e-4b65-b18e-01a6425da05f"
      },
      "outputs": [
        {
          "name": "stdout",
          "output_type": "stream",
          "text": [
            "Welcome to the GRC Consultant Agent!\n",
            "Ask about compliance standards (e.g., 'Tell me about GDPR') or risk assessments (e.g., 'Assess financial risk').\n",
            "\n",
            "Enter your question (or type 'exit' to quit): what are iso standards ?\n"
          ]
        },
        {
          "output_type": "stream",
          "name": "stderr",
          "text": [
            "<ipython-input-4-f95fdd430901>:35: LangChainDeprecationWarning: The method `BaseTool.__call__` was deprecated in langchain-core 0.1.47 and will be removed in 1.0. Use :meth:`~invoke` instead.\n",
            "  return get_compliance_standard(standard)\n"
          ]
        },
        {
          "name": "stdout",
          "output_type": "stream",
          "text": [
            "\n",
            "GRC Agent: ISO is a broad term that encompasses a wide range of standards. Could you please be more specific about which ISO standard you're interested in? For example, are you looking for information on ISO 27001 (information security), ISO 31000 (risk management), or perhaps ISO 19600 (compliance management)?\n",
            "\n",
            "Enter your question (or type 'exit' to quit): give some iso standard examples for  risk management\n",
            "\n",
            "GRC Agent:  They provide a structured approach to identifying, assessing, and mitigating risks, and can help organizations to improve their overall risk management capabilities.\n",
            "\n",
            "Let me know if you have any further questions!\n",
            "\n",
            "Enter your question (or type 'exit' to quit): give iso standard examples for risk management\n",
            "\n",
            "GRC Agent: \n",
            "\n",
            "Enter your question (or type 'exit' to quit): exit\n"
          ]
        }
      ],
      "source": [
        "from langchain_groq import ChatGroq\n",
        "import os\n",
        "\n",
        "from langchain_core.tools import tool\n",
        "from langchain_core.messages import AIMessage, SystemMessage, HumanMessage, ToolMessage\n",
        "\n",
        "from datetime import date\n",
        "import random\n",
        "\n",
        "@tool\n",
        "def get_compliance_standard(standard: str):\n",
        "    \"\"\"Retrieve details about a specific compliance standard (e.g., GDPR, HIPAA, ISO 27001).\"\"\"\n",
        "    compliance_data = {\n",
        "        \"GDPR\": \"General Data Protection Regulation ensures data privacy in the EU.\",\n",
        "        \"HIPAA\": \"Health Insurance Portability and Accountability Act regulates healthcare data.\",\n",
        "        \"ISO 27001\": \"International standard for information security management systems (ISMS).\"\n",
        "    }\n",
        "    return compliance_data.get(standard, \"Standard not found.\")\n",
        "\n",
        "def assess_risk(risk_type):\n",
        "    \"\"\"\n",
        "    Provides a basic risk assessment for common business risks.\n",
        "    \"\"\"\n",
        "    risk_levels = [\"Low\", \"Medium\", \"High\"]\n",
        "    risk_assessment = {\n",
        "        \"cybersecurity\": f\"Cybersecurity risk is assessed as {random.choice(risk_levels)}. Consider regular security audits.\",\n",
        "        \"financial\": f\"Financial risk is assessed as {random.choice(risk_levels)}. Review budgets and cost management.\",\n",
        "        \"operational\": f\"Operational risk is assessed as {random.choice(risk_levels)}. Ensure process optimization.\"\n",
        "    }\n",
        "    return risk_assessment.get(risk_type.lower(), \"Risk type not recognized. Try cybersecurity, financial, or operational.\")\n",
        "\n",
        "@tool\n",
        "def get_compliance_info(standard: str):\n",
        "    \"\"\"Fetch information about a specific compliance standard.\"\"\"\n",
        "    return get_compliance_standard(standard)\n",
        "\n",
        "@tool\n",
        "def get_risk_assessment(risk_type: str):\n",
        "    \"\"\"Provide a basic risk assessment for cybersecurity, financial, or operational risks.\"\"\"\n",
        "    return assess_risk(risk_type)\n",
        "\n",
        "def call_functions(llm_with_tools, user_prompt):\n",
        "    system_prompt = 'You are a Governance, Risk, and Compliance (GRC) consultant assisting organizations. Today is {today}'.format(today=date.today())\n",
        "    messages = [SystemMessage(system_prompt), HumanMessage(user_prompt)]\n",
        "\n",
        "    ai_msg = llm_with_tools.invoke(messages)\n",
        "    messages.append(ai_msg)\n",
        "\n",
        "    for tool_call in ai_msg.tool_calls:\n",
        "        selected_tool = {\n",
        "            \"get_compliance_info\": get_compliance_info,\n",
        "            \"get_risk_assessment\": get_risk_assessment\n",
        "        }.get(tool_call[\"name\"], None)\n",
        "\n",
        "        if selected_tool:\n",
        "            tool_output = selected_tool.invoke(tool_call[\"args\"])\n",
        "            messages.append(ToolMessage(tool_output, tool_call_id=tool_call[\"id\"]))\n",
        "\n",
        "    return llm_with_tools.invoke(messages).content\n",
        "\n",
        "def main():\n",
        "    llm = ChatGroq(groq_api_key=\"api key\", model='llama3-70b-8192')\n",
        "    tools = [get_compliance_info, get_risk_assessment]\n",
        "    llm_with_tools = llm.bind_tools(tools)\n",
        "\n",
        "    print(\"Welcome to the GRC Consultant Agent!\")\n",
        "    print(\"Ask about compliance standards (e.g., 'Tell me about GDPR') or risk assessments (e.g., 'Assess financial risk').\")\n",
        "\n",
        "    while True:\n",
        "        user_question = input(\"\\nEnter your question (or type 'exit' to quit): \")\n",
        "        if user_question.lower() == 'exit':\n",
        "            break\n",
        "        response = call_functions(llm_with_tools, user_question)\n",
        "        print(\"\\nGRC Agent:\", response)\n",
        "\n",
        "if __name__ == \"__main__\":\n",
        "    main()\n"
      ]
    },
    {
      "cell_type": "code",
      "source": [],
      "metadata": {
        "id": "bzF93Jz0NkAN"
      },
      "execution_count": null,
      "outputs": []
    }
  ]
}